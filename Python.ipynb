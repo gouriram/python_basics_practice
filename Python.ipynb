{
 "cells": [
  {
   "cell_type": "markdown",
   "metadata": {
    "id": "UdIhm89GZL6q"
   },
   "source": [
    "**PYTHON PRAC**"
   ]
  },
  {
   "cell_type": "markdown",
   "metadata": {
    "id": "N5jf8QADfZHK"
   },
   "source": [
    "\"Python is an object-oriented,interpreted,high level programming language\",\n",
    "\"Introduced by **GuidoVanRossum** released in 1991\" "
   ]
  },
  {
   "cell_type": "markdown",
   "metadata": {
    "id": "CnFF4GrDgE2i"
   },
   "source": [
    "**Used For**"
   ]
  },
  {
   "cell_type": "markdown",
   "metadata": {
    "id": "nzbQTKoJgI2Z"
   },
   "source": [
    "1. Python can be used on a server to create web applications.\n",
    "2. Web Development\n",
    "3. Software Development\n",
    "4. Mathematics\n",
    "5. System Scripting\n",
    "\n",
    "\n",
    "\n",
    "\n",
    "\n",
    "\n",
    "\n",
    "\n",
    "\n",
    "\n",
    "\n",
    "\n",
    "\n"
   ]
  },
  {
   "cell_type": "markdown",
   "metadata": {
    "id": "Bp8Pyw6IhhPT"
   },
   "source": [
    "**Indentation**"
   ]
  },
  {
   "cell_type": "markdown",
   "metadata": {
    "id": "TmRoR2X8htsS"
   },
   "source": [
    "1. Indentation - Spaces\n",
    "2. Indentation is the spaces at beginning of a code line.\n",
    "3. Python uses indentation to indicate block of code.\n",
    "\n"
   ]
  },
  {
   "cell_type": "markdown",
   "metadata": {
    "id": "14rdOapiiaLg"
   },
   "source": [
    "**Comments**"
   ]
  },
  {
   "cell_type": "markdown",
   "metadata": {
    "id": "mXZxfOnUifMW"
   },
   "source": [
    "* Comments can be used \n",
    "1. to explain Python code  \n",
    "2. to make the code more readable\n",
    "3. to prevent execution when testing code.\n",
    "4. (#)- Single Line Comment\n",
    "5. (###) - Multi Line Comment\n",
    "6. (\"\"\" Bujji \"\"\") - Multi Line String\n",
    "\n",
    "\n",
    "\n",
    "\n",
    "\n",
    "\n"
   ]
  },
  {
   "cell_type": "markdown",
   "metadata": {
    "id": "RTBq1cKQlhgE"
   },
   "source": [
    "**Variables**"
   ]
  },
  {
   "cell_type": "markdown",
   "metadata": {
    "id": "V_Bi1y-4o2oJ"
   },
   "source": [
    "1. Variables are containers to store values.\n",
    "2. Variable is created when we assign a value to it."
   ]
  },
  {
   "cell_type": "code",
   "execution_count": null,
   "metadata": {
    "colab": {
     "base_uri": "https://localhost:8080/"
    },
    "id": "8305XeArZIZ-",
    "outputId": "2fa20f1b-0324-4256-987b-15e093151d97"
   },
   "outputs": [
    {
     "name": "stdout",
     "output_type": "stream",
     "text": [
      "5\n",
      "Bujji\n"
     ]
    }
   ],
   "source": [
    "#Creating Variables\n",
    "x = 5\n",
    "y = \"Bujji\"\n",
    "print(x)\n",
    "print(y)"
   ]
  },
  {
   "cell_type": "code",
   "execution_count": null,
   "metadata": {
    "colab": {
     "base_uri": "https://localhost:8080/"
    },
    "id": "k4CCzqIPZYi8",
    "outputId": "4bde234b-0c8f-44f0-f1ca-bc3a6c3d914b"
   },
   "outputs": [
    {
     "name": "stdout",
     "output_type": "stream",
     "text": [
      "Sally\n"
     ]
    }
   ],
   "source": [
    "x = 4       # x is of type int\n",
    "x = \"Sally\" # x is now of type str\n",
    "print(x)"
   ]
  },
  {
   "cell_type": "markdown",
   "metadata": {
    "id": "MloTNnsvskny"
   },
   "source": [
    "# Type Casting\n",
    "\n",
    "1. To specify the data type of a variable\n",
    "2. Type Casting or Type Conversion is a method of changing an entity       from one data type to another\n",
    "\n",
    "\n",
    "* Ex:- int   - float (Yes)\n",
    "*      float - int (Yes)  \n",
    "*       int  - str(Yes) \n",
    "*       str  - int(Yes, But Numbers - possible,,Alphabets&Characters - not possible)\n",
    "*      float - str(Yes)\n",
    "*       str  - float(Yes)      \n"
   ]
  },
  {
   "cell_type": "code",
   "execution_count": null,
   "metadata": {
    "colab": {
     "base_uri": "https://localhost:8080/"
    },
    "id": "5ONXJCD8tpOi",
    "outputId": "9adff688-3f1f-4f5f-87b3-f4479b31f7e5"
   },
   "outputs": [
    {
     "data": {
      "text/plain": [
       "9.0"
      ]
     },
     "execution_count": 44,
     "metadata": {},
     "output_type": "execute_result"
    }
   ],
   "source": [
    "#int - float\n",
    "float(9)"
   ]
  },
  {
   "cell_type": "code",
   "execution_count": null,
   "metadata": {
    "colab": {
     "base_uri": "https://localhost:8080/"
    },
    "id": "5PDeL00ft69I",
    "outputId": "20b87339-275d-439f-a85c-4025bcfe212b"
   },
   "outputs": [
    {
     "data": {
      "text/plain": [
       "9"
      ]
     },
     "execution_count": 45,
     "metadata": {},
     "output_type": "execute_result"
    }
   ],
   "source": [
    "#float - int\n",
    "int(9.0)"
   ]
  },
  {
   "cell_type": "code",
   "execution_count": null,
   "metadata": {
    "colab": {
     "base_uri": "https://localhost:8080/",
     "height": 35
    },
    "id": "vSzOkyZqt-L2",
    "outputId": "7b5a2d86-8e11-4ec1-d459-810b76f489d4"
   },
   "outputs": [
    {
     "data": {
      "application/vnd.google.colaboratory.intrinsic+json": {
       "type": "string"
      },
      "text/plain": [
       "'9'"
      ]
     },
     "execution_count": 46,
     "metadata": {},
     "output_type": "execute_result"
    }
   ],
   "source": [
    "#int - str\n",
    "str(9)"
   ]
  },
  {
   "cell_type": "code",
   "execution_count": null,
   "metadata": {
    "colab": {
     "base_uri": "https://localhost:8080/"
    },
    "id": "2CUVvD-YuFM3",
    "outputId": "719d866b-e004-49a7-cfd3-2047acaa173f"
   },
   "outputs": [
    {
     "data": {
      "text/plain": [
       "9"
      ]
     },
     "execution_count": 47,
     "metadata": {},
     "output_type": "execute_result"
    }
   ],
   "source": [
    "#str - int\n",
    "int('9')"
   ]
  },
  {
   "cell_type": "code",
   "execution_count": null,
   "metadata": {
    "colab": {
     "base_uri": "https://localhost:8080/",
     "height": 183
    },
    "id": "Y5h6T2RiuLVQ",
    "outputId": "55948e25-643e-460a-ce15-bf07a45325e1"
   },
   "outputs": [
    {
     "ename": "ValueError",
     "evalue": "ignored",
     "output_type": "error",
     "traceback": [
      "\u001b[0;31m---------------------------------------------------------------------------\u001b[0m",
      "\u001b[0;31mValueError\u001b[0m                                Traceback (most recent call last)",
      "\u001b[0;32m<ipython-input-49-40016d1d01e4>\u001b[0m in \u001b[0;36m<cell line: 2>\u001b[0;34m()\u001b[0m\n\u001b[1;32m      1\u001b[0m \u001b[0;31m#str - int {character} - ValueError occurs\u001b[0m\u001b[0;34m\u001b[0m\u001b[0;34m\u001b[0m\u001b[0m\n\u001b[0;32m----> 2\u001b[0;31m \u001b[0mint\u001b[0m\u001b[0;34m(\u001b[0m\u001b[0;34m'Bujji'\u001b[0m\u001b[0;34m)\u001b[0m\u001b[0;34m\u001b[0m\u001b[0;34m\u001b[0m\u001b[0m\n\u001b[0m",
      "\u001b[0;31mValueError\u001b[0m: invalid literal for int() with base 10: 'Bujji'"
     ]
    }
   ],
   "source": [
    "#str - int {character} - ValueError occurs\n",
    "int('Bujji')"
   ]
  },
  {
   "cell_type": "code",
   "execution_count": null,
   "metadata": {
    "colab": {
     "base_uri": "https://localhost:8080/",
     "height": 35
    },
    "id": "NtN4gR0sucpA",
    "outputId": "1532a3fd-915f-43d2-88d2-b9dd2fcb402a"
   },
   "outputs": [
    {
     "data": {
      "application/vnd.google.colaboratory.intrinsic+json": {
       "type": "string"
      },
      "text/plain": [
       "'9.0'"
      ]
     },
     "execution_count": 50,
     "metadata": {},
     "output_type": "execute_result"
    }
   ],
   "source": [
    "#float - str\n",
    "str(9.0)"
   ]
  },
  {
   "cell_type": "code",
   "execution_count": null,
   "metadata": {
    "colab": {
     "base_uri": "https://localhost:8080/"
    },
    "id": "QbqNTeZguk6m",
    "outputId": "d282fe4e-fe31-435a-ddcd-37591239b3f9"
   },
   "outputs": [
    {
     "data": {
      "text/plain": [
       "9.0"
      ]
     },
     "execution_count": 51,
     "metadata": {},
     "output_type": "execute_result"
    }
   ],
   "source": [
    "#str - float\n",
    "float('9.0')"
   ]
  },
  {
   "cell_type": "markdown",
   "metadata": {
    "id": "qOCFDFHTu-hA"
   },
   "source": [
    "**Get the Type**"
   ]
  },
  {
   "cell_type": "markdown",
   "metadata": {
    "id": "gYCk7OCQvD1c"
   },
   "source": [
    "* type() function is used to get the data type of a variable \n",
    "\n"
   ]
  },
  {
   "cell_type": "code",
   "execution_count": null,
   "metadata": {
    "colab": {
     "base_uri": "https://localhost:8080/"
    },
    "id": "dS3ppKFtvDFO",
    "outputId": "286f3af1-e03f-45bb-8bb3-f96884ee0e7b"
   },
   "outputs": [
    {
     "name": "stdout",
     "output_type": "stream",
     "text": [
      "<class 'int'>\n",
      "<class 'str'>\n"
     ]
    }
   ],
   "source": [
    "x = 5\n",
    "y = \"Bujji\"\n",
    "print(type(x))\n",
    "print(type(y))"
   ]
  },
  {
   "cell_type": "code",
   "execution_count": null,
   "metadata": {
    "colab": {
     "base_uri": "https://localhost:8080/"
    },
    "id": "Cf9pDDyvN8Jf",
    "outputId": "72d5a9c8-e739-4c6c-fd28-06c8bff3f184"
   },
   "outputs": [
    {
     "name": "stdout",
     "output_type": "stream",
     "text": [
      "9\n",
      "<class 'int'>\n",
      "Ramanaiah\n",
      "<class 'str'>\n"
     ]
    }
   ],
   "source": [
    "x = 9\n",
    "y = 'Ramanaiah'\n",
    "print(x)\n",
    "print(type(x))\n",
    "print(y)\n",
    "print(type(y))"
   ]
  },
  {
   "cell_type": "markdown",
   "metadata": {
    "id": "Ei0gsAZ0vccL"
   },
   "source": [
    "**Single or Double Quotes?**"
   ]
  },
  {
   "cell_type": "markdown",
   "metadata": {
    "id": "MrTzQQ3qvi6Y"
   },
   "source": [
    "\n",
    "\n",
    "* String variables can be declared either by using single or double quotes\n",
    "\n"
   ]
  },
  {
   "cell_type": "code",
   "execution_count": null,
   "metadata": {
    "colab": {
     "base_uri": "https://localhost:8080/"
    },
    "id": "ka1tgP9EvfJZ",
    "outputId": "6a6a1dfd-05fb-46cd-91db-75ecc30fd21a"
   },
   "outputs": [
    {
     "name": "stdout",
     "output_type": "stream",
     "text": [
      "Bujji\n",
      "Bujji\n"
     ]
    }
   ],
   "source": [
    "x = \"Bujji\"\n",
    "print(x)\n",
    "# is the same as\n",
    "x = 'Bujji'\n",
    "print(x)"
   ]
  },
  {
   "cell_type": "markdown",
   "metadata": {
    "id": "0a1gaf1Ev8bL"
   },
   "source": [
    "**Case-Sensitive**"
   ]
  },
  {
   "cell_type": "markdown",
   "metadata": {
    "id": "YgQxdOA1wCHR"
   },
   "source": [
    "* Variable names are case-sensitive\n",
    "- It means both variable names are different\n"
   ]
  },
  {
   "cell_type": "code",
   "execution_count": null,
   "metadata": {
    "colab": {
     "base_uri": "https://localhost:8080/"
    },
    "id": "mrwLf5m-v_ow",
    "outputId": "308776f5-a00e-41ab-b751-39e6863b3e02"
   },
   "outputs": [
    {
     "name": "stdout",
     "output_type": "stream",
     "text": [
      "4\n",
      "Sally\n"
     ]
    }
   ],
   "source": [
    "a = 4\n",
    "A = \"Sally\"\n",
    "#A will not overwrite a\n",
    "print(a)\n",
    "print(A)"
   ]
  },
  {
   "cell_type": "markdown",
   "metadata": {
    "id": "x_NwpGBHFqTK"
   },
   "source": [
    "**Variable Names**"
   ]
  },
  {
   "cell_type": "markdown",
   "metadata": {
    "id": "cq6MWLoYFxvE"
   },
   "source": [
    "\n",
    "\n",
    "*   Variable can be short name like x and y (or) descriptive name like age, carname...etc\n",
    "\n"
   ]
  },
  {
   "cell_type": "markdown",
   "metadata": {
    "id": "WzMHgm3wGTI1"
   },
   "source": [
    "**Rules for Python variables**"
   ]
  },
  {
   "cell_type": "markdown",
   "metadata": {
    "id": "8OYrWr_XGchG"
   },
   "source": [
    "\n",
    "\n",
    "1. Variable name must start with Letter or Underscore character\n",
    "2. Variable name cannot start with Symbols,Numbers & Python Keywords\n",
    "3. Variable name can only contain alpha-numeric characters and underscores (A-z, 0-9, and _ )\n",
    "4. Variable names are case-sensitive (age, Age and AGE are three different variables)\n"
   ]
  },
  {
   "cell_type": "markdown",
   "metadata": {
    "id": "97PEG-eaHLI9"
   },
   "source": [
    "**Legal variable names**"
   ]
  },
  {
   "cell_type": "code",
   "execution_count": null,
   "metadata": {
    "colab": {
     "base_uri": "https://localhost:8080/"
    },
    "id": "kJ2FvwqQHRGy",
    "outputId": "c40fb6aa-47ad-468f-ba21-b0b17861cbf1"
   },
   "outputs": [
    {
     "name": "stdout",
     "output_type": "stream",
     "text": [
      "John\n",
      "John\n",
      "John\n",
      "John\n",
      "John\n",
      "John\n"
     ]
    }
   ],
   "source": [
    "myvar = \"John\"\n",
    "my_var = \"John\"\n",
    "_my_var = \"John\"\n",
    "myVar = \"John\"\n",
    "MYVAR = \"John\"\n",
    "myvar2 = \"John\"\n",
    "\n",
    "\n",
    "print(myvar)\n",
    "print(my_var)\n",
    "print(_my_var)\n",
    "print(myVar)\n",
    "print(MYVAR)\n",
    "print(myvar2)"
   ]
  },
  {
   "cell_type": "markdown",
   "metadata": {
    "id": "KY-ArThYHwQm"
   },
   "source": [
    "**Illegal variable names**"
   ]
  },
  {
   "cell_type": "code",
   "execution_count": null,
   "metadata": {
    "colab": {
     "base_uri": "https://localhost:8080/",
     "height": 131
    },
    "id": "WLpUAIsNHzmt",
    "outputId": "39008d58-1ebe-45ae-d11f-bf13e7b3a4f9"
   },
   "outputs": [
    {
     "ename": "SyntaxError",
     "evalue": "ignored",
     "output_type": "error",
     "traceback": [
      "\u001b[0;36m  File \u001b[0;32m\"<ipython-input-57-311933ee3c7b>\"\u001b[0;36m, line \u001b[0;32m1\u001b[0m\n\u001b[0;31m    2myvar = \"John\"\u001b[0m\n\u001b[0m    ^\u001b[0m\n\u001b[0;31mSyntaxError\u001b[0m\u001b[0;31m:\u001b[0m invalid decimal literal\n"
     ]
    }
   ],
   "source": [
    "2myvar = \"John\"\n",
    "my-var = \"John\"\n",
    "my var = \"John\"\n",
    "\n",
    "#This example will produce an error in the result"
   ]
  },
  {
   "cell_type": "markdown",
   "metadata": {
    "id": "lw7O4sxoIGWN"
   },
   "source": [
    "**Multi Words Variable Names**"
   ]
  },
  {
   "cell_type": "markdown",
   "metadata": {
    "id": "2KdNfSkcIJdM"
   },
   "source": [
    "\n",
    "\n",
    "* Techniques to make the words more readable\n",
    "\n"
   ]
  },
  {
   "cell_type": "markdown",
   "metadata": {
    "id": "AaqG0E53IW48"
   },
   "source": [
    "**Camel Case**"
   ]
  },
  {
   "cell_type": "markdown",
   "metadata": {
    "id": "BDXtK1H5IeHM"
   },
   "source": [
    "\n",
    "\n",
    "* Each word, except the first, starts with a capital letter\n",
    "* myVariableName = \"Bujji\"\n"
   ]
  },
  {
   "cell_type": "markdown",
   "metadata": {
    "id": "LTJCqiauIu-u"
   },
   "source": [
    "**Pascal Case**"
   ]
  },
  {
   "cell_type": "markdown",
   "metadata": {
    "id": "4CzS23EAIyYK"
   },
   "source": [
    "\n",
    "\n",
    "* Each word starts with a capital letter\n",
    "* MyVariableName = \"Bujji\"\n",
    "\n"
   ]
  },
  {
   "cell_type": "markdown",
   "metadata": {
    "id": "6FWiy94uI8kJ"
   },
   "source": [
    "**Snake Case**"
   ]
  },
  {
   "cell_type": "markdown",
   "metadata": {
    "id": "dHU3SKNEJAWF"
   },
   "source": [
    "\n",
    "\n",
    "* Each word is separated by an underscore character\n",
    "* my_variable_name = \"Bujji\"\n",
    "\n"
   ]
  },
  {
   "cell_type": "markdown",
   "metadata": {
    "id": "7ndSGrADvXBC"
   },
   "source": [
    "### Output Variables\n",
    "- print() function is used to output variables"
   ]
  },
  {
   "cell_type": "code",
   "execution_count": null,
   "metadata": {
    "colab": {
     "base_uri": "https://localhost:8080/"
    },
    "id": "nGTmuSZOvT97",
    "outputId": "4af2eb35-afc9-4352-8574-20ac2a4e68b5"
   },
   "outputs": [
    {
     "name": "stdout",
     "output_type": "stream",
     "text": [
      "Python is awesome\n"
     ]
    }
   ],
   "source": [
    "x = \"Python is awesome\"\n",
    "print(x)"
   ]
  },
  {
   "cell_type": "markdown",
   "metadata": {
    "id": "Xfxayj9fwBOS"
   },
   "source": [
    "### Ways of printing\n",
    "- Comma Separated\n",
    "- \"+\" operator to output multiple variables"
   ]
  },
  {
   "cell_type": "code",
   "execution_count": null,
   "metadata": {
    "colab": {
     "base_uri": "https://localhost:8080/"
    },
    "id": "7Ep-VOszvyL2",
    "outputId": "7cc6b281-79f6-474b-a7c1-bd4734f604da"
   },
   "outputs": [
    {
     "name": "stdout",
     "output_type": "stream",
     "text": [
      "Python is awesome\n"
     ]
    }
   ],
   "source": [
    "x = \"Python\"\n",
    "y = \"is\"\n",
    "z = \"awesome\"\n",
    "print(x, y, z)"
   ]
  },
  {
   "cell_type": "code",
   "execution_count": null,
   "metadata": {
    "colab": {
     "base_uri": "https://localhost:8080/"
    },
    "id": "7LLIQtmTwbZF",
    "outputId": "e8cf35f8-aebd-4ed1-bde9-e077499dc0a2"
   },
   "outputs": [
    {
     "name": "stdout",
     "output_type": "stream",
     "text": [
      "Python is awesome\n"
     ]
    }
   ],
   "source": [
    "x = \"Python \"\n",
    "y = \"is \"\n",
    "z = \"awesome\"\n",
    "print(x + y + z)\n",
    "\n",
    "## Notice the space character after \"Python \" and \"is \", without them the result would be \"Pythonisawesome\"."
   ]
  },
  {
   "cell_type": "code",
   "execution_count": null,
   "metadata": {
    "colab": {
     "base_uri": "https://localhost:8080/"
    },
    "id": "NOce-HEIw1Gm",
    "outputId": "5cff1fea-047b-47df-edc3-42dbc443e4ae"
   },
   "outputs": [
    {
     "name": "stdout",
     "output_type": "stream",
     "text": [
      "15\n"
     ]
    }
   ],
   "source": [
    "# + character works as a mathematical operator\n",
    "x = 5\n",
    "y = 10\n",
    "print(x + y)"
   ]
  },
  {
   "cell_type": "code",
   "execution_count": null,
   "metadata": {
    "colab": {
     "base_uri": "https://localhost:8080/",
     "height": 201
    },
    "id": "cPrWwZhHxAxf",
    "outputId": "7de5d07a-a9f7-4951-f8c0-e7aa4989003b"
   },
   "outputs": [
    {
     "ename": "TypeError",
     "evalue": "ignored",
     "output_type": "error",
     "traceback": [
      "\u001b[0;31m---------------------------------------------------------------------------\u001b[0m",
      "\u001b[0;31mTypeError\u001b[0m                                 Traceback (most recent call last)",
      "\u001b[0;32m<ipython-input-62-9b868e0bb8ff>\u001b[0m in \u001b[0;36m<cell line: 4>\u001b[0;34m()\u001b[0m\n\u001b[1;32m      2\u001b[0m \u001b[0mx\u001b[0m \u001b[0;34m=\u001b[0m \u001b[0;36m5\u001b[0m\u001b[0;34m\u001b[0m\u001b[0;34m\u001b[0m\u001b[0m\n\u001b[1;32m      3\u001b[0m \u001b[0my\u001b[0m \u001b[0;34m=\u001b[0m \u001b[0;34m\"John\"\u001b[0m\u001b[0;34m\u001b[0m\u001b[0;34m\u001b[0m\u001b[0m\n\u001b[0;32m----> 4\u001b[0;31m \u001b[0mprint\u001b[0m\u001b[0;34m(\u001b[0m\u001b[0mx\u001b[0m \u001b[0;34m+\u001b[0m \u001b[0my\u001b[0m\u001b[0;34m)\u001b[0m\u001b[0;34m\u001b[0m\u001b[0;34m\u001b[0m\u001b[0m\n\u001b[0m",
      "\u001b[0;31mTypeError\u001b[0m: unsupported operand type(s) for +: 'int' and 'str'"
     ]
    }
   ],
   "source": [
    "## when you try to combine a string and a number with the + operator in the print(), it will throw an error\n",
    "x = 5\n",
    "y = \"John\"\n",
    "print(x + y)"
   ]
  },
  {
   "cell_type": "code",
   "execution_count": null,
   "metadata": {
    "colab": {
     "base_uri": "https://localhost:8080/"
    },
    "id": "n4hRbRHDxOMd",
    "outputId": "529256f0-ec2d-40e2-c182-6d0cc67988c1"
   },
   "outputs": [
    {
     "name": "stdout",
     "output_type": "stream",
     "text": [
      "5 John\n"
     ]
    }
   ],
   "source": [
    "## Possible with comma separated to combine string and number\n",
    "x = 5\n",
    "y = \"John\"\n",
    "print(x, y)"
   ]
  },
  {
   "cell_type": "markdown",
   "metadata": {
    "id": "B6xuPBZJxerZ"
   },
   "source": [
    "- Global Variables : Variables that are created outside of a function\n",
    "- Use : Global variables can be used both inside and outside of a function\n",
    "- Local Variables : Variables that are created inside of a function"
   ]
  },
  {
   "cell_type": "code",
   "execution_count": null,
   "metadata": {
    "colab": {
     "base_uri": "https://localhost:8080/"
    },
    "id": "F-XTs3Ksx9e6",
    "outputId": "a746c0b9-cfb9-4af6-e619-1668698b293d"
   },
   "outputs": [
    {
     "name": "stdout",
     "output_type": "stream",
     "text": [
      "Python is awesome\n"
     ]
    }
   ],
   "source": [
    "## Create a variable outside of a function, and use it inside the function\n",
    "\n",
    "x = \"awesome\"\n",
    "\n",
    "def myfunc():\n",
    "  print(\"Python is \" + x)\n",
    "\n",
    "myfunc()"
   ]
  },
  {
   "cell_type": "code",
   "execution_count": null,
   "metadata": {
    "colab": {
     "base_uri": "https://localhost:8080/"
    },
    "id": "f1z5g4Ws1T-m",
    "outputId": "0ab32b4f-00e5-4ac3-9366-7f63e6d59877"
   },
   "outputs": [
    {
     "name": "stdout",
     "output_type": "stream",
     "text": [
      "Python is fantastic\n",
      "Python is awesome\n"
     ]
    }
   ],
   "source": [
    "## Create a variable inside a function, with the same name as the global variable\n",
    "\n",
    "x = \"awesome\"\n",
    "\n",
    "def myfunc():\n",
    "  x = \"fantastic\"\n",
    "  print(\"Python is \" + x)\n",
    "\n",
    "myfunc()\n",
    "\n",
    "print(\"Python is \" + x)"
   ]
  },
  {
   "cell_type": "markdown",
   "metadata": {
    "id": "hcU9kdV91eQh"
   },
   "source": [
    "- global Keyword\n",
    "- To create a global variable inside a function,use the global keyword then the variable belongs to the global scope."
   ]
  },
  {
   "cell_type": "code",
   "execution_count": null,
   "metadata": {
    "colab": {
     "base_uri": "https://localhost:8080/"
    },
    "id": "lEigbQgd1vN2",
    "outputId": "5aa8a09c-01aa-4c0a-d9a4-d9ac043e7883"
   },
   "outputs": [
    {
     "name": "stdout",
     "output_type": "stream",
     "text": [
      "Python is fantastic\n"
     ]
    }
   ],
   "source": [
    "def myfunc():\n",
    "  global x\n",
    "  x = \"fantastic\"\n",
    "\n",
    "myfunc()\n",
    "\n",
    "print(\"Python is \" + x)"
   ]
  },
  {
   "cell_type": "markdown",
   "metadata": {
    "id": "UKNMkZ-G15Mu"
   },
   "source": [
    "- To change the value of a global variable inside a function, refer to the variable by using the global keyword"
   ]
  },
  {
   "cell_type": "code",
   "execution_count": null,
   "metadata": {
    "colab": {
     "base_uri": "https://localhost:8080/"
    },
    "id": "3kRXePEx16bS",
    "outputId": "03e9e744-2fa2-4320-f876-ae8c06e542c1"
   },
   "outputs": [
    {
     "name": "stdout",
     "output_type": "stream",
     "text": [
      "Python is fantastic\n"
     ]
    }
   ],
   "source": [
    "x = \"awesome\"\n",
    "\n",
    "def myfunc():\n",
    "  global x\n",
    "  x = \"fantastic\"\n",
    "\n",
    "myfunc()\n",
    "\n",
    "print(\"Python is \" + x)"
   ]
  },
  {
   "cell_type": "markdown",
   "metadata": {
    "id": "-zGWcCkI38XL"
   },
   "source": [
    "### Arithmetic Operators\n",
    "- Arithmetic operators are used for mathematical calculations."
   ]
  },
  {
   "cell_type": "code",
   "execution_count": null,
   "metadata": {
    "colab": {
     "base_uri": "https://localhost:8080/"
    },
    "id": "oYKYtmh735Mn",
    "outputId": "d8813d50-9548-4d26-c43b-dba1890adc89"
   },
   "outputs": [
    {
     "data": {
      "text/plain": [
       "5"
      ]
     },
     "execution_count": 68,
     "metadata": {},
     "output_type": "execute_result"
    }
   ],
   "source": [
    "# Addition\n",
    "2+3"
   ]
  },
  {
   "cell_type": "code",
   "execution_count": null,
   "metadata": {
    "colab": {
     "base_uri": "https://localhost:8080/"
    },
    "id": "EDiWylOh4V_9",
    "outputId": "b771a92a-4e3c-4ae2-9cd1-51cbddfd8d83"
   },
   "outputs": [
    {
     "data": {
      "text/plain": [
       "5"
      ]
     },
     "execution_count": 69,
     "metadata": {},
     "output_type": "execute_result"
    }
   ],
   "source": [
    "# Subtraction\n",
    "9-4"
   ]
  },
  {
   "cell_type": "code",
   "execution_count": null,
   "metadata": {
    "colab": {
     "base_uri": "https://localhost:8080/"
    },
    "id": "hv9FA-8c4a-p",
    "outputId": "e428bfd4-87c8-41a4-d433-6d1d75a83d0e"
   },
   "outputs": [
    {
     "data": {
      "text/plain": [
       "25"
      ]
     },
     "execution_count": 70,
     "metadata": {},
     "output_type": "execute_result"
    }
   ],
   "source": [
    "# Multiplication\n",
    "5*5"
   ]
  },
  {
   "cell_type": "code",
   "execution_count": null,
   "metadata": {
    "colab": {
     "base_uri": "https://localhost:8080/"
    },
    "id": "311M_mxT4eyX",
    "outputId": "78ee50a6-e75a-4be8-df94-9cbf2fde9618"
   },
   "outputs": [
    {
     "data": {
      "text/plain": [
       "5.0"
      ]
     },
     "execution_count": 71,
     "metadata": {},
     "output_type": "execute_result"
    }
   ],
   "source": [
    "# Division :- Normal division returns float values\n",
    "25/5"
   ]
  },
  {
   "cell_type": "code",
   "execution_count": null,
   "metadata": {
    "colab": {
     "base_uri": "https://localhost:8080/"
    },
    "id": "W4x8TAtb4oDi",
    "outputId": "b3ce20c4-4ae2-45eb-b9b6-6b1fc8e3ca85"
   },
   "outputs": [
    {
     "data": {
      "text/plain": [
       "5"
      ]
     },
     "execution_count": 72,
     "metadata": {},
     "output_type": "execute_result"
    }
   ],
   "source": [
    "# Integer Division :- Returns integer type values\n",
    "25//5"
   ]
  },
  {
   "cell_type": "code",
   "execution_count": null,
   "metadata": {
    "colab": {
     "base_uri": "https://localhost:8080/",
     "height": 131
    },
    "id": "cItvcPnS4xwP",
    "outputId": "6f6caa93-4e4e-432e-ac50-c59f8c90abfc"
   },
   "outputs": [
    {
     "ename": "SyntaxError",
     "evalue": "ignored",
     "output_type": "error",
     "traceback": [
      "\u001b[0;36m  File \u001b[0;32m\"<ipython-input-73-b6627ed13cb4>\"\u001b[0;36m, line \u001b[0;32m2\u001b[0m\n\u001b[0;31m    7+6i\u001b[0m\n\u001b[0m      ^\u001b[0m\n\u001b[0;31mSyntaxError\u001b[0m\u001b[0;31m:\u001b[0m invalid decimal literal\n"
     ]
    }
   ],
   "source": [
    "# Complex Number :- Real+Imaginary value\n",
    "7+6i"
   ]
  },
  {
   "cell_type": "code",
   "execution_count": null,
   "metadata": {
    "colab": {
     "base_uri": "https://localhost:8080/"
    },
    "id": "V1tpVb-QSSn_",
    "outputId": "535f3997-be18-470d-ee05-442043004cf7"
   },
   "outputs": [
    {
     "data": {
      "text/plain": [
       "(5+6j)"
      ]
     },
     "execution_count": 74,
     "metadata": {},
     "output_type": "execute_result"
    }
   ],
   "source": [
    "5+6j  # j is only possible ( j is reserved complex number)"
   ]
  },
  {
   "cell_type": "code",
   "execution_count": null,
   "metadata": {
    "colab": {
     "base_uri": "https://localhost:8080/"
    },
    "id": "eLuxOt6K5HN6",
    "outputId": "8bb99a79-43ac-47a7-d1a7-903e68282a78"
   },
   "outputs": [
    {
     "data": {
      "text/plain": [
       "0"
      ]
     },
     "execution_count": 75,
     "metadata": {},
     "output_type": "execute_result"
    }
   ],
   "source": [
    "# To get the Remainder use (%) symbol\n",
    "25%5"
   ]
  },
  {
   "cell_type": "code",
   "execution_count": null,
   "metadata": {
    "colab": {
     "base_uri": "https://localhost:8080/"
    },
    "id": "OyBpV7LY5TQE",
    "outputId": "87908235-b3a6-4777-823a-8e75a8d30f79"
   },
   "outputs": [
    {
     "data": {
      "text/plain": [
       "243"
      ]
     },
     "execution_count": 76,
     "metadata": {},
     "output_type": "execute_result"
    }
   ],
   "source": [
    "# To get the exponent use (**) symbol\n",
    "3**5"
   ]
  },
  {
   "cell_type": "markdown",
   "metadata": {
    "id": "0H_8nF4n5c-H"
   },
   "source": [
    "### Relational Operators\n",
    "- Used for comparing the values\n",
    "- Returns Boolean values T|F according to the condition\n",
    "- Also called Comparison Operators\n",
    "- \"=\"  - to store particular value\n",
    "- \"==\" - for comparison "
   ]
  },
  {
   "cell_type": "code",
   "execution_count": null,
   "metadata": {
    "colab": {
     "base_uri": "https://localhost:8080/"
    },
    "id": "-yzw-rAh5fTX",
    "outputId": "37c350c4-1cde-4dab-e16e-e2040fe02db9"
   },
   "outputs": [
    {
     "data": {
      "text/plain": [
       "5"
      ]
     },
     "execution_count": 77,
     "metadata": {},
     "output_type": "execute_result"
    }
   ],
   "source": [
    "# Equal to (=)\n",
    "a = 5\n",
    "a"
   ]
  },
  {
   "cell_type": "code",
   "execution_count": null,
   "metadata": {
    "colab": {
     "base_uri": "https://localhost:8080/"
    },
    "id": "389CfUoh6jRR",
    "outputId": "f6314d8a-c9a6-4b1e-e2b7-c57c1dc8a69d"
   },
   "outputs": [
    {
     "name": "stdout",
     "output_type": "stream",
     "text": [
      "7\n"
     ]
    },
    {
     "data": {
      "text/plain": [
       "False"
      ]
     },
     "execution_count": 78,
     "metadata": {},
     "output_type": "execute_result"
    }
   ],
   "source": [
    "# Double Equal to (==)\n",
    "x = 7\n",
    "print(x)\n",
    "x == 8"
   ]
  },
  {
   "cell_type": "code",
   "execution_count": null,
   "metadata": {
    "colab": {
     "base_uri": "https://localhost:8080/"
    },
    "id": "GrQxmW0S64O2",
    "outputId": "b23617bd-9f03-4a1a-c737-d3f132de8832"
   },
   "outputs": [
    {
     "data": {
      "text/plain": [
       "True"
      ]
     },
     "execution_count": 79,
     "metadata": {},
     "output_type": "execute_result"
    }
   ],
   "source": [
    "# Not Equal to (!=)\n",
    "3 != 9"
   ]
  },
  {
   "cell_type": "code",
   "execution_count": null,
   "metadata": {
    "colab": {
     "base_uri": "https://localhost:8080/"
    },
    "id": "L0RkR-7Z7JVw",
    "outputId": "f037c27a-70d7-4eae-adb4-b6b8343993ed"
   },
   "outputs": [
    {
     "data": {
      "text/plain": [
       "True"
      ]
     },
     "execution_count": 80,
     "metadata": {},
     "output_type": "execute_result"
    }
   ],
   "source": [
    "# Less than\n",
    "25 < 50"
   ]
  },
  {
   "cell_type": "code",
   "execution_count": null,
   "metadata": {
    "colab": {
     "base_uri": "https://localhost:8080/"
    },
    "id": "E9zuWmo07Zhk",
    "outputId": "d9a1890e-a3db-40ce-af9e-47b930ca8b7b"
   },
   "outputs": [
    {
     "data": {
      "text/plain": [
       "False"
      ]
     },
     "execution_count": 81,
     "metadata": {},
     "output_type": "execute_result"
    }
   ],
   "source": [
    "# Greater than\n",
    "50 > 90"
   ]
  },
  {
   "cell_type": "code",
   "execution_count": null,
   "metadata": {
    "colab": {
     "base_uri": "https://localhost:8080/"
    },
    "id": "7298iqEI7e_I",
    "outputId": "95f11c8b-f8a3-452f-f584-1f45197df252"
   },
   "outputs": [
    {
     "data": {
      "text/plain": [
       "True"
      ]
     },
     "execution_count": 83,
     "metadata": {},
     "output_type": "execute_result"
    }
   ],
   "source": [
    "# Lessthan or Equal to\n",
    "40 <= 40.99"
   ]
  },
  {
   "cell_type": "code",
   "execution_count": null,
   "metadata": {
    "colab": {
     "base_uri": "https://localhost:8080/"
    },
    "id": "mbjfYQyY71Ji",
    "outputId": "2632f5e5-3acc-48e5-f095-1bffcba142e2"
   },
   "outputs": [
    {
     "data": {
      "text/plain": [
       "False"
      ]
     },
     "execution_count": 84,
     "metadata": {},
     "output_type": "execute_result"
    }
   ],
   "source": [
    "# Greaterthan or Equal to\n",
    "50.0 >= 50.1"
   ]
  },
  {
   "cell_type": "code",
   "execution_count": null,
   "metadata": {
    "colab": {
     "base_uri": "https://localhost:8080/"
    },
    "id": "ehKkVyD98T-G",
    "outputId": "9bb34e51-708a-41d9-f2fa-83b9ec0efd32"
   },
   "outputs": [
    {
     "data": {
      "text/plain": [
       "True"
      ]
     },
     "execution_count": 85,
     "metadata": {},
     "output_type": "execute_result"
    }
   ],
   "source": [
    "50.1 >= 50.0"
   ]
  },
  {
   "cell_type": "markdown",
   "metadata": {
    "id": "LhlsQ_mfHEdj"
   },
   "source": [
    "### Membership Operators\n",
    "- To check the statement whether the data is in list or not\n",
    "- in \n",
    "- not in"
   ]
  },
  {
   "cell_type": "code",
   "execution_count": null,
   "metadata": {
    "colab": {
     "base_uri": "https://localhost:8080/"
    },
    "id": "csm_QlSdHVgq",
    "outputId": "f00ee0c6-961b-4e2e-bc36-28741d4a54fc"
   },
   "outputs": [
    {
     "data": {
      "text/plain": [
       "False"
      ]
     },
     "execution_count": 86,
     "metadata": {},
     "output_type": "execute_result"
    }
   ],
   "source": [
    "50 in [1,2,3,4,5,6,7,8,9]"
   ]
  },
  {
   "cell_type": "code",
   "execution_count": null,
   "metadata": {
    "colab": {
     "base_uri": "https://localhost:8080/"
    },
    "id": "UFUZRLfzH0O_",
    "outputId": "7247660d-62cc-4ef5-f242-e2a4d5abf017"
   },
   "outputs": [
    {
     "data": {
      "text/plain": [
       "True"
      ]
     },
     "execution_count": 88,
     "metadata": {},
     "output_type": "execute_result"
    }
   ],
   "source": [
    "5 in [1,2,3,4,5,6]"
   ]
  },
  {
   "cell_type": "code",
   "execution_count": null,
   "metadata": {
    "colab": {
     "base_uri": "https://localhost:8080/"
    },
    "id": "wvvytz5YH8pS",
    "outputId": "9a228749-e1be-4038-d2d9-21404db20b8a"
   },
   "outputs": [
    {
     "data": {
      "text/plain": [
       "False"
      ]
     },
     "execution_count": 89,
     "metadata": {},
     "output_type": "execute_result"
    }
   ],
   "source": [
    "50 not in [1,2,50,6,7]"
   ]
  },
  {
   "cell_type": "code",
   "execution_count": null,
   "metadata": {
    "colab": {
     "base_uri": "https://localhost:8080/"
    },
    "id": "pNS78NdsIF2u",
    "outputId": "550dd8ab-18f1-44a3-fce3-95cdc6ebaef1"
   },
   "outputs": [
    {
     "data": {
      "text/plain": [
       "True"
      ]
     },
     "execution_count": 90,
     "metadata": {},
     "output_type": "execute_result"
    }
   ],
   "source": [
    "50 not in [1,2,3,4,5]"
   ]
  },
  {
   "cell_type": "code",
   "execution_count": null,
   "metadata": {
    "colab": {
     "base_uri": "https://localhost:8080/"
    },
    "id": "ZnuFhcwFIL43",
    "outputId": "a6d8454f-6b43-4e44-8aa8-27c83b00a714"
   },
   "outputs": [
    {
     "data": {
      "text/plain": [
       "True"
      ]
     },
     "execution_count": 91,
     "metadata": {},
     "output_type": "execute_result"
    }
   ],
   "source": [
    "5 and 3 in [1,2,3,4,5,6,7,8,9]"
   ]
  },
  {
   "cell_type": "code",
   "execution_count": null,
   "metadata": {
    "colab": {
     "base_uri": "https://localhost:8080/"
    },
    "id": "9A85aLZLIrCA",
    "outputId": "6843f324-f601-4980-c301-c36b1f3016e0"
   },
   "outputs": [
    {
     "data": {
      "text/plain": [
       "False"
      ]
     },
     "execution_count": 92,
     "metadata": {},
     "output_type": "execute_result"
    }
   ],
   "source": [
    "15 and 3 not in [1,2,3,4,5,6,7,8,9] # works only on 2nd digit"
   ]
  },
  {
   "cell_type": "code",
   "execution_count": null,
   "metadata": {
    "colab": {
     "base_uri": "https://localhost:8080/"
    },
    "id": "RmKrr7b-ITi3",
    "outputId": "12eb30d2-ac8e-4df3-94b9-fdcc543155c9"
   },
   "outputs": [
    {
     "data": {
      "text/plain": [
       "(5, True)"
      ]
     },
     "execution_count": 93,
     "metadata": {},
     "output_type": "execute_result"
    }
   ],
   "source": [
    "5,3 in [1,2,3,4,5,6,7,8,9] # only returns for 2nd digit and 1st digit will be ignored"
   ]
  },
  {
   "cell_type": "code",
   "execution_count": null,
   "metadata": {
    "colab": {
     "base_uri": "https://localhost:8080/"
    },
    "id": "9BmYuYeSJAYM",
    "outputId": "eaa30065-1a92-4fb6-ea65-d08659fd0196"
   },
   "outputs": [
    {
     "data": {
      "text/plain": [
       "False"
      ]
     },
     "execution_count": 94,
     "metadata": {},
     "output_type": "execute_result"
    }
   ],
   "source": [
    "[1,2] in [1,2,3,4,5,6,7,8,9] # list won't work"
   ]
  },
  {
   "cell_type": "code",
   "execution_count": null,
   "metadata": {
    "colab": {
     "base_uri": "https://localhost:8080/"
    },
    "id": "O5_PRYzJJNGd",
    "outputId": "5a867cf2-450d-4899-d456-0b4435cb4626"
   },
   "outputs": [
    {
     "data": {
      "text/plain": [
       "True"
      ]
     },
     "execution_count": 95,
     "metadata": {},
     "output_type": "execute_result"
    }
   ],
   "source": [
    "[1,2] in [[1,2],3,4,5,6,7,8,9] # works for nested list"
   ]
  },
  {
   "cell_type": "code",
   "execution_count": null,
   "metadata": {
    "colab": {
     "base_uri": "https://localhost:8080/"
    },
    "id": "phGiwf4MJo3N",
    "outputId": "c4eccb31-5ce5-4a86-bf63-46266bcce400"
   },
   "outputs": [
    {
     "data": {
      "text/plain": [
       "True"
      ]
     },
     "execution_count": 96,
     "metadata": {},
     "output_type": "execute_result"
    }
   ],
   "source": [
    "x = 9  # for variables\n",
    "9 in [1,2,3,4,5,6,7,8,x]"
   ]
  },
  {
   "cell_type": "code",
   "execution_count": null,
   "metadata": {
    "colab": {
     "base_uri": "https://localhost:8080/"
    },
    "id": "_oLPSz1gKCoX",
    "outputId": "205290bc-c9f8-46fc-fa71-002795e9d8a6"
   },
   "outputs": [
    {
     "data": {
      "text/plain": [
       "False"
      ]
     },
     "execution_count": 97,
     "metadata": {},
     "output_type": "execute_result"
    }
   ],
   "source": [
    "x = 9\n",
    "9 not in [1,2,3,4,5,6,7,8,x]"
   ]
  },
  {
   "cell_type": "markdown",
   "metadata": {
    "id": "4tmLrHRUTk1a"
   },
   "source": [
    "### Boolean Conversion\n"
   ]
  },
  {
   "cell_type": "code",
   "execution_count": null,
   "metadata": {
    "colab": {
     "base_uri": "https://localhost:8080/"
    },
    "id": "yt835iiYTKri",
    "outputId": "adf469a4-d2b1-4d97-cdb1-8ba1a0d0dffe"
   },
   "outputs": [
    {
     "data": {
      "text/plain": [
       "1"
      ]
     },
     "execution_count": 98,
     "metadata": {},
     "output_type": "execute_result"
    }
   ],
   "source": [
    "# Convert True to int\n",
    "int(True)"
   ]
  },
  {
   "cell_type": "code",
   "execution_count": null,
   "metadata": {
    "colab": {
     "base_uri": "https://localhost:8080/"
    },
    "id": "h1aG8Zj5TukY",
    "outputId": "3cead866-aa43-478d-c95a-9a38712dac75"
   },
   "outputs": [
    {
     "data": {
      "text/plain": [
       "0"
      ]
     },
     "execution_count": 99,
     "metadata": {},
     "output_type": "execute_result"
    }
   ],
   "source": [
    "# Convert False to int\n",
    "int(False)"
   ]
  },
  {
   "cell_type": "code",
   "execution_count": null,
   "metadata": {
    "colab": {
     "base_uri": "https://localhost:8080/"
    },
    "id": "_nis259NT0ZU",
    "outputId": "75d9b238-5cbe-49fa-abc9-ae40f78265da"
   },
   "outputs": [
    {
     "data": {
      "text/plain": [
       "1.0"
      ]
     },
     "execution_count": 100,
     "metadata": {},
     "output_type": "execute_result"
    }
   ],
   "source": [
    "# Convert True to float\n",
    "float(True)"
   ]
  },
  {
   "cell_type": "code",
   "execution_count": null,
   "metadata": {
    "colab": {
     "base_uri": "https://localhost:8080/"
    },
    "id": "Mmf6mdKaT6Zw",
    "outputId": "c6941c24-57d1-461a-e709-0bc3813252bf"
   },
   "outputs": [
    {
     "data": {
      "text/plain": [
       "True"
      ]
     },
     "execution_count": 101,
     "metadata": {},
     "output_type": "execute_result"
    }
   ],
   "source": [
    "# Convert 1 to boolean\n",
    "bool(1)"
   ]
  },
  {
   "cell_type": "code",
   "execution_count": null,
   "metadata": {
    "colab": {
     "base_uri": "https://localhost:8080/"
    },
    "id": "mHnPz98JUBHr",
    "outputId": "5e6085ae-7ea5-44e7-ef69-a93c61eab2f5"
   },
   "outputs": [
    {
     "data": {
      "text/plain": [
       "False"
      ]
     },
     "execution_count": 102,
     "metadata": {},
     "output_type": "execute_result"
    }
   ],
   "source": [
    "# Convert 0 to boolean\n",
    "bool(0)"
   ]
  },
  {
   "cell_type": "markdown",
   "metadata": {
    "id": "pkd4u-uvUHDX"
   },
   "source": [
    "### Logical Operators(AND,OR,NOT ,Remaining are bitwise operators)\n",
    "\n",
    "- AND Operator\n",
    "- 0 0 | 0\n",
    "- 0 1 | 0\n",
    "- 1 0 | 0 \n",
    "- 1 1 | 1\n",
    "\n",
    "- OR Operator\n",
    "- 0 0 | 0\n",
    "- 0 1 | 1\n",
    "- 1 0 | 1\n",
    "- 1 1 | 1\n",
    "\n",
    "- XOR Operator\n",
    "- 0 0 | 0\n",
    "- 0 1 | 1\n",
    "- 1 0 | 1\n",
    "- 1 1 | 0\n",
    "\n",
    "- NAND Operator\n",
    "- 0 0 | 1\n",
    "- 0 1 | 1\n",
    "- 1 0 | 1\n",
    "- 1 1 | 0\n",
    "\n",
    "- NOR Operator\n",
    "- 0 0 | 1\n",
    "- 0 1 | 0 \n",
    "- 1 0 | 0\n",
    "- 1 1 | 0\n",
    "\n",
    "- NOT Operator\n",
    "- 0 | 1\n",
    "- 1 | 0\n",
    "- NOT (negative / negation symbol)\n"
   ]
  },
  {
   "cell_type": "code",
   "execution_count": null,
   "metadata": {
    "colab": {
     "base_uri": "https://localhost:8080/"
    },
    "id": "0NzCp5mWUKO0",
    "outputId": "7af0b343-c232-4864-e9c0-c6975dfb5d88"
   },
   "outputs": [
    {
     "data": {
      "text/plain": [
       "True"
      ]
     },
     "execution_count": 103,
     "metadata": {},
     "output_type": "execute_result"
    }
   ],
   "source": [
    "(7>6) and (6>4)"
   ]
  },
  {
   "cell_type": "code",
   "execution_count": null,
   "metadata": {
    "colab": {
     "base_uri": "https://localhost:8080/"
    },
    "id": "MftvAwfHWQIm",
    "outputId": "8260287b-3c78-4053-e785-1cc05ad6d372"
   },
   "outputs": [
    {
     "data": {
      "text/plain": [
       "False"
      ]
     },
     "execution_count": 104,
     "metadata": {},
     "output_type": "execute_result"
    }
   ],
   "source": [
    "(7==6) and (7==7)"
   ]
  },
  {
   "cell_type": "code",
   "execution_count": null,
   "metadata": {
    "colab": {
     "base_uri": "https://localhost:8080/"
    },
    "id": "7NsmxNekWXUP",
    "outputId": "d021cc91-585c-44c1-8095-fdd270365090"
   },
   "outputs": [
    {
     "data": {
      "text/plain": [
       "False"
      ]
     },
     "execution_count": 105,
     "metadata": {},
     "output_type": "execute_result"
    }
   ],
   "source": [
    "(5>6) or (6<4)"
   ]
  },
  {
   "cell_type": "code",
   "execution_count": null,
   "metadata": {
    "colab": {
     "base_uri": "https://localhost:8080/"
    },
    "id": "5Vjn_BloWdHJ",
    "outputId": "a54c9aa4-b5be-4dea-b526-005cbbd517d0"
   },
   "outputs": [
    {
     "data": {
      "text/plain": [
       "True"
      ]
     },
     "execution_count": 106,
     "metadata": {},
     "output_type": "execute_result"
    }
   ],
   "source": [
    "(5<6) or (6<4)"
   ]
  },
  {
   "cell_type": "code",
   "execution_count": null,
   "metadata": {
    "colab": {
     "base_uri": "https://localhost:8080/"
    },
    "id": "VdAF8gPKWrcW",
    "outputId": "9867e146-2d14-4e99-cd37-8e46bdd3f96d"
   },
   "outputs": [
    {
     "data": {
      "text/plain": [
       "False"
      ]
     },
     "execution_count": 107,
     "metadata": {},
     "output_type": "execute_result"
    }
   ],
   "source": [
    "not (7>6)"
   ]
  },
  {
   "cell_type": "code",
   "execution_count": null,
   "metadata": {
    "colab": {
     "base_uri": "https://localhost:8080/"
    },
    "id": "uSwjsAHpXAro",
    "outputId": "7ff0d89d-2bc3-460e-f5be-a2bc114c7e22"
   },
   "outputs": [
    {
     "data": {
      "text/plain": [
       "True"
      ]
     },
     "execution_count": 108,
     "metadata": {},
     "output_type": "execute_result"
    }
   ],
   "source": [
    "not (7<6)"
   ]
  },
  {
   "cell_type": "code",
   "execution_count": null,
   "metadata": {
    "colab": {
     "base_uri": "https://localhost:8080/"
    },
    "id": "HVB89qONXKDF",
    "outputId": "a6b7394e-6b2b-4cad-eca3-347acc740964"
   },
   "outputs": [
    {
     "data": {
      "text/plain": [
       "-1"
      ]
     },
     "execution_count": 111,
     "metadata": {},
     "output_type": "execute_result"
    }
   ],
   "source": [
    "~(7<6) # 6-7 = -1  \"~\" for subtracting"
   ]
  },
  {
   "cell_type": "markdown",
   "metadata": {
    "id": "Feb9Yf_Felnd"
   },
   "source": [
    "### Escape Operators\n",
    "- Escape operators in system are used to shift to next window / other slide.\n",
    "- Escape operators uses \\ back slash\n",
    "- 1 tab = 4 space\n",
    "- \\ : escape operator\n",
    "- \\n : new line operator\n",
    "- \\t : tab operator"
   ]
  },
  {
   "cell_type": "code",
   "execution_count": null,
   "metadata": {
    "colab": {
     "base_uri": "https://localhost:8080/"
    },
    "id": "yczcbL8bXYo6",
    "outputId": "1894be03-a1f1-421c-b57d-3413399a23cd"
   },
   "outputs": [
    {
     "name": "stdout",
     "output_type": "stream",
     "text": [
      "Hello\tHow are you\n"
     ]
    }
   ],
   "source": [
    "# \\t\n",
    "print(\"Hello\\tHow are you\")"
   ]
  },
  {
   "cell_type": "code",
   "execution_count": null,
   "metadata": {
    "colab": {
     "base_uri": "https://localhost:8080/"
    },
    "id": "bjuQBD8yfvNc",
    "outputId": "6375d76a-08da-42b8-95a5-2a2395a9d9b0"
   },
   "outputs": [
    {
     "name": "stdout",
     "output_type": "stream",
     "text": [
      "Hello\t\tHow are you\n"
     ]
    }
   ],
   "source": [
    "print(\"Hello\\t\\tHow are you\")"
   ]
  },
  {
   "cell_type": "code",
   "execution_count": null,
   "metadata": {
    "colab": {
     "base_uri": "https://localhost:8080/"
    },
    "id": "cGlbY5ozf1ba",
    "outputId": "93039db3-ee42-4b82-8072-aa959edc11a8"
   },
   "outputs": [
    {
     "name": "stdout",
     "output_type": "stream",
     "text": [
      "Hello\\How are you\n"
     ]
    }
   ],
   "source": [
    "print(\"Hello\\How are you\")"
   ]
  },
  {
   "cell_type": "code",
   "execution_count": null,
   "metadata": {
    "colab": {
     "base_uri": "https://localhost:8080/"
    },
    "id": "QVd1ALXff74A",
    "outputId": "0b0e362b-a193-4502-9b09-c8e2188dcc54"
   },
   "outputs": [
    {
     "name": "stdout",
     "output_type": "stream",
     "text": [
      "Hello\\How are you\n"
     ]
    }
   ],
   "source": [
    "print(\"Hello\\\\How are you\")"
   ]
  },
  {
   "cell_type": "code",
   "execution_count": null,
   "metadata": {
    "colab": {
     "base_uri": "https://localhost:8080/"
    },
    "id": "DQDuCEa2gFjZ",
    "outputId": "04dce1ad-8504-4f57-da00-fde46d215238"
   },
   "outputs": [
    {
     "name": "stdout",
     "output_type": "stream",
     "text": [
      "Hello\\\\How are you\n"
     ]
    }
   ],
   "source": [
    "print(\"Hello\\\\\\How are you\")"
   ]
  },
  {
   "cell_type": "code",
   "execution_count": null,
   "metadata": {
    "colab": {
     "base_uri": "https://localhost:8080/"
    },
    "id": "8x1gOuWZgMXl",
    "outputId": "7955a299-34ad-4969-ac03-635dbd1b06d6"
   },
   "outputs": [
    {
     "name": "stdout",
     "output_type": "stream",
     "text": [
      "\tHello How are you\n"
     ]
    }
   ],
   "source": [
    "print(\"\\tHello How are you\")"
   ]
  },
  {
   "cell_type": "code",
   "execution_count": null,
   "metadata": {
    "colab": {
     "base_uri": "https://localhost:8080/"
    },
    "id": "o7ERiHbqgURv",
    "outputId": "0d4ce57b-7576-4d12-bc9e-63ab56e37233"
   },
   "outputs": [
    {
     "name": "stdout",
     "output_type": "stream",
     "text": [
      "Hello\n",
      "How are you\n"
     ]
    }
   ],
   "source": [
    "# \\n\n",
    "print(\"Hello\\nHow are you\")"
   ]
  },
  {
   "cell_type": "code",
   "execution_count": null,
   "metadata": {
    "colab": {
     "base_uri": "https://localhost:8080/"
    },
    "id": "aoBtC8I6ghpK",
    "outputId": "50d25a68-e816-48ba-857b-4f138579cc53"
   },
   "outputs": [
    {
     "name": "stdout",
     "output_type": "stream",
     "text": [
      "Hello\\nHow are you\n"
     ]
    }
   ],
   "source": [
    "print(\"Hello\\\\nHow are you\")\n",
    "# it is not considering as an escape character, taking as an argument only if you give \\n it will print in next line."
   ]
  },
  {
   "cell_type": "markdown",
   "metadata": {
    "id": "0ihkF6qVimqT"
   },
   "source": [
    "### User Input\n",
    "- Python allows for user input\n",
    "- Able to ask the user for input\n",
    "- Python 3.6 uses the input() method\n",
    "- Python 2.7 uses the raw_input() method\n",
    "- raw_input() is removed from current python version"
   ]
  },
  {
   "cell_type": "code",
   "execution_count": null,
   "metadata": {
    "colab": {
     "base_uri": "https://localhost:8080/"
    },
    "id": "9EKKdvrOiAKo",
    "outputId": "cc3f2ca8-3dac-4182-f618-0a2099b70739"
   },
   "outputs": [
    {
     "name": "stdout",
     "output_type": "stream",
     "text": [
      "Enter username:gouriram\n",
      "Username is: gouriram\n"
     ]
    }
   ],
   "source": [
    "username = input(\"Enter username:\")\n",
    "print(\"Username is: \" + username)"
   ]
  },
  {
   "cell_type": "code",
   "execution_count": null,
   "metadata": {
    "colab": {
     "base_uri": "https://localhost:8080/",
     "height": 183
    },
    "id": "NAjQd3rQjfEJ",
    "outputId": "e23b3697-683d-469e-eb89-b7e5cf4e8543"
   },
   "outputs": [
    {
     "ename": "NameError",
     "evalue": "ignored",
     "output_type": "error",
     "traceback": [
      "\u001b[0;31m---------------------------------------------------------------------------\u001b[0m",
      "\u001b[0;31mNameError\u001b[0m                                 Traceback (most recent call last)",
      "\u001b[0;32m<ipython-input-128-748e799f9fc2>\u001b[0m in \u001b[0;36m<cell line: 1>\u001b[0;34m()\u001b[0m\n\u001b[0;32m----> 1\u001b[0;31m \u001b[0musername\u001b[0m \u001b[0;34m=\u001b[0m \u001b[0mraw_input\u001b[0m\u001b[0;34m(\u001b[0m\u001b[0;34m\"Enter username:\"\u001b[0m\u001b[0;34m)\u001b[0m\u001b[0;34m\u001b[0m\u001b[0;34m\u001b[0m\u001b[0m\n\u001b[0m\u001b[1;32m      2\u001b[0m \u001b[0mprint\u001b[0m\u001b[0;34m(\u001b[0m\u001b[0;34m\"Username is: \"\u001b[0m \u001b[0;34m+\u001b[0m \u001b[0musername\u001b[0m\u001b[0;34m)\u001b[0m\u001b[0;34m\u001b[0m\u001b[0;34m\u001b[0m\u001b[0m\n",
      "\u001b[0;31mNameError\u001b[0m: name 'raw_input' is not defined"
     ]
    }
   ],
   "source": [
    "username = raw_input(\"Enter username:\") # not in current version \n",
    "print(\"Username is: \" + username)"
   ]
  },
  {
   "cell_type": "code",
   "execution_count": null,
   "metadata": {
    "colab": {
     "base_uri": "https://localhost:8080/",
     "height": 52
    },
    "id": "n5E9mqIXjv58",
    "outputId": "18a43672-7aea-4e0e-f0bf-749f55a56c13"
   },
   "outputs": [
    {
     "name": "stdout",
     "output_type": "stream",
     "text": [
      "Enter a number:9\n"
     ]
    },
    {
     "data": {
      "application/vnd.google.colaboratory.intrinsic+json": {
       "type": "string"
      },
      "text/plain": [
       "'9'"
      ]
     },
     "execution_count": 129,
     "metadata": {},
     "output_type": "execute_result"
    }
   ],
   "source": [
    "input('Enter a number:')"
   ]
  },
  {
   "cell_type": "code",
   "execution_count": null,
   "metadata": {
    "colab": {
     "base_uri": "https://localhost:8080/"
    },
    "id": "5L6kZiLqj7ZA",
    "outputId": "73422164-5d29-48f7-c14d-371c15468931"
   },
   "outputs": [
    {
     "name": "stdout",
     "output_type": "stream",
     "text": [
      "Name your favorite person : Ramanaiah\n",
      "My favorite person is : Ramanaiah\n"
     ]
    }
   ],
   "source": [
    "j = input('Name your favorite person : ')\n",
    "print(\"My favorite person is : \" + j)"
   ]
  },
  {
   "cell_type": "markdown",
   "metadata": {
    "id": "lJo3VOWL3SVR"
   },
   "source": [
    "### Strings\n",
    "- String is a sequence of characters defined in single or double quotes\n",
    "- It is a derived data type\n",
    "- Strings are immutable.That means once defined, they cannot be changed."
   ]
  },
  {
   "cell_type": "code",
   "execution_count": null,
   "metadata": {
    "colab": {
     "base_uri": "https://localhost:8080/",
     "height": 35
    },
    "id": "lvpwHRyy3R24",
    "outputId": "85e12c56-00b6-41d5-d616-7ac9c5e761b1"
   },
   "outputs": [
    {
     "data": {
      "application/vnd.google.colaboratory.intrinsic+json": {
       "type": "string"
      },
      "text/plain": [
       "'Bujji'"
      ]
     },
     "execution_count": 1,
     "metadata": {},
     "output_type": "execute_result"
    }
   ],
   "source": [
    "('Bujji')"
   ]
  },
  {
   "cell_type": "code",
   "execution_count": null,
   "metadata": {
    "colab": {
     "base_uri": "https://localhost:8080/"
    },
    "id": "ZyL9Akev30jq",
    "outputId": "5ee9ec4f-6389-4b99-9d6e-e7cbadd5311f"
   },
   "outputs": [
    {
     "name": "stdout",
     "output_type": "stream",
     "text": [
      "Bujji\n"
     ]
    }
   ],
   "source": [
    "print('Bujji')"
   ]
  },
  {
   "cell_type": "markdown",
   "metadata": {
    "id": "QMeYK82v7FW0"
   },
   "source": [
    "### Indexing\n",
    "- Each element in the sequence can be accessed by using an index represented by the array of numbers\n",
    "- Positive Indexing : Positive indexing is called so due to the initialising point is from left to right series i.e., 0,1,2,3...(+line)\n",
    "- Negative Indexing : Negative indexing count the elements from the end of the string. The last element is given by the index '-1'\n",
    "- Indexing in Python - 0\n",
    "- Indexing in R - 1\n"
   ]
  },
  {
   "cell_type": "code",
   "execution_count": null,
   "metadata": {
    "id": "TfdxMhl232t5"
   },
   "outputs": [],
   "source": [
    "Name = \"Michael Jackson\""
   ]
  },
  {
   "cell_type": "code",
   "execution_count": null,
   "metadata": {
    "colab": {
     "base_uri": "https://localhost:8080/",
     "height": 35
    },
    "id": "lBSsV4yd8gBI",
    "outputId": "9690ea26-b1f7-4931-faf2-24976baca8fb"
   },
   "outputs": [
    {
     "data": {
      "application/vnd.google.colaboratory.intrinsic+json": {
       "type": "string"
      },
      "text/plain": [
       "'M'"
      ]
     },
     "execution_count": 4,
     "metadata": {},
     "output_type": "execute_result"
    }
   ],
   "source": [
    "# Print the first element in the string\n",
    "Name[0]"
   ]
  },
  {
   "cell_type": "code",
   "execution_count": null,
   "metadata": {
    "colab": {
     "base_uri": "https://localhost:8080/",
     "height": 35
    },
    "id": "ieQ9QQ5W8okx",
    "outputId": "5d7959eb-6dc5-41a2-a9ea-688d0da7a635"
   },
   "outputs": [
    {
     "data": {
      "application/vnd.google.colaboratory.intrinsic+json": {
       "type": "string"
      },
      "text/plain": [
       "'l'"
      ]
     },
     "execution_count": 5,
     "metadata": {},
     "output_type": "execute_result"
    }
   ],
   "source": [
    "# Print the element on index 6 in the string\n",
    "Name[6]"
   ]
  },
  {
   "cell_type": "code",
   "execution_count": null,
   "metadata": {
    "colab": {
     "base_uri": "https://localhost:8080/",
     "height": 35
    },
    "id": "bEC0mY0W82s1",
    "outputId": "03741b0b-adc0-4ae0-9db4-e5fea94a547e"
   },
   "outputs": [
    {
     "data": {
      "application/vnd.google.colaboratory.intrinsic+json": {
       "type": "string"
      },
      "text/plain": [
       "'s'"
      ]
     },
     "execution_count": 6,
     "metadata": {},
     "output_type": "execute_result"
    }
   ],
   "source": [
    "# Print the element on the 13th index in the string\n",
    "Name[12]"
   ]
  },
  {
   "cell_type": "code",
   "execution_count": null,
   "metadata": {
    "colab": {
     "base_uri": "https://localhost:8080/",
     "height": 35
    },
    "id": "anChmi9J9Sc4",
    "outputId": "a4a08356-4066-4623-a40d-9d347c9c6469"
   },
   "outputs": [
    {
     "data": {
      "application/vnd.google.colaboratory.intrinsic+json": {
       "type": "string"
      },
      "text/plain": [
       "'n'"
      ]
     },
     "execution_count": 7,
     "metadata": {},
     "output_type": "execute_result"
    }
   ],
   "source": [
    "# Print the last element in the string\n",
    "Name[-1]"
   ]
  },
  {
   "cell_type": "code",
   "execution_count": null,
   "metadata": {
    "colab": {
     "base_uri": "https://localhost:8080/",
     "height": 35
    },
    "id": "vvfGKUNU9iLA",
    "outputId": "0aaa6472-72a0-48ad-caa4-da8b7daca459"
   },
   "outputs": [
    {
     "data": {
      "application/vnd.google.colaboratory.intrinsic+json": {
       "type": "string"
      },
      "text/plain": [
       "'M'"
      ]
     },
     "execution_count": 8,
     "metadata": {},
     "output_type": "execute_result"
    }
   ],
   "source": [
    "# Print the first element in the string\n",
    "Name[-15]"
   ]
  },
  {
   "cell_type": "code",
   "execution_count": null,
   "metadata": {
    "colab": {
     "base_uri": "https://localhost:8080/",
     "height": 166
    },
    "id": "FPilohUH9o4Q",
    "outputId": "7bf39045-b6b3-48eb-dcc2-2ff6240970cd"
   },
   "outputs": [
    {
     "ename": "IndexError",
     "evalue": "ignored",
     "output_type": "error",
     "traceback": [
      "\u001b[0;31m---------------------------------------------------------------------------\u001b[0m",
      "\u001b[0;31mIndexError\u001b[0m                                Traceback (most recent call last)",
      "\u001b[0;32m<ipython-input-9-f03dc41f6c9e>\u001b[0m in \u001b[0;36m<cell line: 1>\u001b[0;34m()\u001b[0m\n\u001b[0;32m----> 1\u001b[0;31m \u001b[0mName\u001b[0m\u001b[0;34m[\u001b[0m\u001b[0;36m16\u001b[0m\u001b[0;34m]\u001b[0m\u001b[0;34m\u001b[0m\u001b[0;34m\u001b[0m\u001b[0m\n\u001b[0m",
      "\u001b[0;31mIndexError\u001b[0m: string index out of range"
     ]
    }
   ],
   "source": [
    "Name[16] # Because upto given particular indices only it will count"
   ]
  },
  {
   "cell_type": "markdown",
   "metadata": {
    "id": "zy7plillBtIn"
   },
   "source": [
    "- Slicing : Returns multiple characters from a string\n",
    "- [ start : stop ]\n",
    "- Stride : Returns alternate elements from a string i.e., every second element in a string\n",
    "- [ start : stop : step ]"
   ]
  },
  {
   "cell_type": "code",
   "execution_count": null,
   "metadata": {
    "colab": {
     "base_uri": "https://localhost:8080/",
     "height": 35
    },
    "id": "DYGKOS0495Sv",
    "outputId": "d46edcac-67bb-4c3c-89f3-4b21c72f9528"
   },
   "outputs": [
    {
     "data": {
      "application/vnd.google.colaboratory.intrinsic+json": {
       "type": "string"
      },
      "text/plain": [
       "'Michael'"
      ]
     },
     "execution_count": 10,
     "metadata": {},
     "output_type": "execute_result"
    }
   ],
   "source": [
    "# Take the slice on variable name with only index 0 to index 6\n",
    "Name[0:7]"
   ]
  },
  {
   "cell_type": "code",
   "execution_count": null,
   "metadata": {
    "colab": {
     "base_uri": "https://localhost:8080/",
     "height": 35
    },
    "id": "P117vfhOCyyH",
    "outputId": "4f786fae-6be5-468b-adfc-5b5962f92bda"
   },
   "outputs": [
    {
     "data": {
      "application/vnd.google.colaboratory.intrinsic+json": {
       "type": "string"
      },
      "text/plain": [
       "'Jack'"
      ]
     },
     "execution_count": 11,
     "metadata": {},
     "output_type": "execute_result"
    }
   ],
   "source": [
    "# Take the slice on variable name with only index 8 to index 11\n",
    "Name[8:12]"
   ]
  },
  {
   "cell_type": "code",
   "execution_count": null,
   "metadata": {
    "colab": {
     "base_uri": "https://localhost:8080/",
     "height": 35
    },
    "id": "NR0amQNjDA6J",
    "outputId": "addd73bd-81f5-4a49-b527-1d74ab0a4847"
   },
   "outputs": [
    {
     "data": {
      "application/vnd.google.colaboratory.intrinsic+json": {
       "type": "string"
      },
      "text/plain": [
       "'ihe ako'"
      ]
     },
     "execution_count": 12,
     "metadata": {},
     "output_type": "execute_result"
    }
   ],
   "source": [
    "# Get every alternative element. The elements on index 1,3,5....\n",
    "Name[1::2]"
   ]
  },
  {
   "cell_type": "code",
   "execution_count": null,
   "metadata": {
    "colab": {
     "base_uri": "https://localhost:8080/",
     "height": 35
    },
    "id": "Y69TqdZIDYz5",
    "outputId": "579111c9-6c5d-4026-d9ea-aadeeaf39c04"
   },
   "outputs": [
    {
     "data": {
      "application/vnd.google.colaboratory.intrinsic+json": {
       "type": "string"
      },
      "text/plain": [
       "'Mca'"
      ]
     },
     "execution_count": 15,
     "metadata": {},
     "output_type": "execute_result"
    }
   ],
   "source": [
    "# Get every alternative in the range from index 0 to index 4\n",
    "Name[0:5:2]"
   ]
  },
  {
   "cell_type": "code",
   "execution_count": null,
   "metadata": {
    "colab": {
     "base_uri": "https://localhost:8080/",
     "height": 35
    },
    "id": "lkIyWUmbD2MI",
    "outputId": "ed31c978-3b35-4981-8a40-7551d0664dab"
   },
   "outputs": [
    {
     "data": {
      "application/vnd.google.colaboratory.intrinsic+json": {
       "type": "string"
      },
      "text/plain": [
       "'Mhla'"
      ]
     },
     "execution_count": 16,
     "metadata": {},
     "output_type": "execute_result"
    }
   ],
   "source": [
    "# Print second alternative element from index 0 to index 10\n",
    "Name[0:11:3]"
   ]
  },
  {
   "cell_type": "markdown",
   "metadata": {
    "id": "qA6hab6WE_cE"
   },
   "source": [
    "- find() \n",
    "- Only the index of the first element, of substring in string will be the output."
   ]
  },
  {
   "cell_type": "code",
   "execution_count": null,
   "metadata": {
    "colab": {
     "base_uri": "https://localhost:8080/"
    },
    "id": "81sAYnDREyRu",
    "outputId": "a2c060a0-eaf5-4d6e-ef06-bf89d25c759d"
   },
   "outputs": [
    {
     "data": {
      "text/plain": [
       "0"
      ]
     },
     "execution_count": 18,
     "metadata": {},
     "output_type": "execute_result"
    }
   ],
   "source": [
    "# find()\n",
    "Name.find('Mic')"
   ]
  },
  {
   "cell_type": "code",
   "execution_count": null,
   "metadata": {
    "colab": {
     "base_uri": "https://localhost:8080/"
    },
    "id": "hvDH3rQZFykI",
    "outputId": "4f0d3055-16a0-4800-ed94-4bd25fecb9c2"
   },
   "outputs": [
    {
     "data": {
      "text/plain": [
       "10"
      ]
     },
     "execution_count": 19,
     "metadata": {},
     "output_type": "execute_result"
    }
   ],
   "source": [
    "Name.find('ck')"
   ]
  },
  {
   "cell_type": "code",
   "execution_count": null,
   "metadata": {
    "colab": {
     "base_uri": "https://localhost:8080/"
    },
    "id": "HAYkLqAaF1sh",
    "outputId": "08f5b918-7204-4777-d5ef-a998e63e8686"
   },
   "outputs": [
    {
     "data": {
      "text/plain": [
       "10"
      ]
     },
     "execution_count": 20,
     "metadata": {},
     "output_type": "execute_result"
    }
   ],
   "source": [
    "Name.find('cks')"
   ]
  },
  {
   "cell_type": "code",
   "execution_count": null,
   "metadata": {
    "colab": {
     "base_uri": "https://localhost:8080/"
    },
    "id": "ngVze-imF5Ho",
    "outputId": "47d9f7d9-d22d-4ff9-93ea-79f0f7022add"
   },
   "outputs": [
    {
     "data": {
      "text/plain": [
       "-1"
      ]
     },
     "execution_count": 21,
     "metadata": {},
     "output_type": "execute_result"
    }
   ],
   "source": [
    "# If substring is not in the string then the output is negative\n",
    "Name.find('cs')"
   ]
  },
  {
   "cell_type": "code",
   "execution_count": null,
   "metadata": {
    "colab": {
     "base_uri": "https://localhost:8080/"
    },
    "id": "cbc2s2zFGPUh",
    "outputId": "5f88c50c-01bd-4073-e251-2557d97a3d21"
   },
   "outputs": [
    {
     "data": {
      "text/plain": [
       "-1"
      ]
     },
     "execution_count": 22,
     "metadata": {},
     "output_type": "execute_result"
    }
   ],
   "source": [
    "Name.find('abc')"
   ]
  },
  {
   "cell_type": "code",
   "execution_count": null,
   "metadata": {
    "colab": {
     "base_uri": "https://localhost:8080/"
    },
    "id": "vvosTYheGyj2",
    "outputId": "fbb6db17-ca46-41cb-869c-ab5d2a05a160"
   },
   "outputs": [
    {
     "name": "stdout",
     "output_type": "stream",
     "text": [
      "before upper : Today We Have A Class\n",
      "after upper : TODAY WE HAVE A CLASS\n"
     ]
    }
   ],
   "source": [
    "# upper()\n",
    "# Converting all the characters in string to upper case\n",
    "A = 'Today We Have A Class'\n",
    "print(\"before upper :\", A)\n",
    "B = A.upper()\n",
    "print(\"after upper :\", B)"
   ]
  },
  {
   "cell_type": "code",
   "execution_count": null,
   "metadata": {
    "colab": {
     "base_uri": "https://localhost:8080/"
    },
    "id": "p2oTu_0AHU5h",
    "outputId": "a33a3f53-a757-4446-b36f-1a0c4e7679b4"
   },
   "outputs": [
    {
     "name": "stdout",
     "output_type": "stream",
     "text": [
      "Today We Have A Class\n",
      "Today We Have A Match\n"
     ]
    }
   ],
   "source": [
    "# replace()\n",
    "A = 'Today We Have A Class'\n",
    "B = A.replace('Class','Match')\n",
    "print(A)\n",
    "print(B)"
   ]
  },
  {
   "cell_type": "code",
   "execution_count": null,
   "metadata": {
    "colab": {
     "base_uri": "https://localhost:8080/",
     "height": 35
    },
    "id": "A6X3vpwxHuFg",
    "outputId": "d57aa8a3-158c-4eb2-c5a4-1c3b375baf68"
   },
   "outputs": [
    {
     "data": {
      "application/vnd.google.colaboratory.intrinsic+json": {
       "type": "string"
      },
      "text/plain": [
       "'i am in a a aic'"
      ]
     },
     "execution_count": 29,
     "metadata": {},
     "output_type": "execute_result"
    }
   ],
   "source": [
    "x = 'i am in a class classic'\n",
    "y = x.replace('class', 'a')\n",
    "y"
   ]
  }
 ],
 "metadata": {
  "colab": {
   "provenance": []
  },
  "kernelspec": {
   "display_name": "Python 3 (ipykernel)",
   "language": "python",
   "name": "python3"
  },
  "language_info": {
   "codemirror_mode": {
    "name": "ipython",
    "version": 3
   },
   "file_extension": ".py",
   "mimetype": "text/x-python",
   "name": "python",
   "nbconvert_exporter": "python",
   "pygments_lexer": "ipython3",
   "version": "3.10.9"
  }
 },
 "nbformat": 4,
 "nbformat_minor": 1
}
